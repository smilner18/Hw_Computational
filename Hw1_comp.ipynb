{
 "cells": [
  {
   "cell_type": "code",
   "execution_count": 1,
   "metadata": {},
   "outputs": [
    {
     "data": {
      "text/plain": [
       "4"
      ]
     },
     "execution_count": 1,
     "metadata": {},
     "output_type": "execute_result"
    }
   ],
   "source": [
    "2+2\n"
   ]
  },
  {
   "cell_type": "code",
   "execution_count": 3,
   "metadata": {},
   "outputs": [],
   "source": [
    "def y(x):\n",
    "    return x**2 + 2*x\n",
    "\n"
   ]
  },
  {
   "cell_type": "code",
   "execution_count": 5,
   "metadata": {},
   "outputs": [
    {
     "data": {
      "text/plain": [
       "3"
      ]
     },
     "execution_count": 5,
     "metadata": {},
     "output_type": "execute_result"
    }
   ],
   "source": [
    "y(1)"
   ]
  },
  {
   "cell_type": "code",
   "execution_count": 20,
   "metadata": {},
   "outputs": [],
   "source": [
    "import math\n",
    "import numpy as np\n"
   ]
  },
  {
   "cell_type": "code",
   "execution_count": 7,
   "metadata": {},
   "outputs": [
    {
     "data": {
      "text/plain": [
       "2.718281828459045"
      ]
     },
     "execution_count": 7,
     "metadata": {},
     "output_type": "execute_result"
    }
   ],
   "source": [
    "math.e"
   ]
  },
  {
   "cell_type": "code",
   "execution_count": 8,
   "metadata": {},
   "outputs": [],
   "source": [
    "nsteps = 10;\n",
    "inside = 0;"
   ]
  },
  {
   "cell_type": "code",
   "execution_count": 21,
   "metadata": {},
   "outputs": [],
   "source": [
    "def euler(y, f, dx):\n",
    "    \n",
    "    return y + f*dx\n",
    "    "
   ]
  },
  {
   "cell_type": "code",
   "execution_count": 48,
   "metadata": {},
   "outputs": [],
   "source": [
    "tmax = 10\n",
    "Ts = 83\n",
    "r = 0.1\n",
    "T0 = 10"
   ]
  },
  {
   "cell_type": "code",
   "execution_count": null,
   "metadata": {},
   "outputs": [],
   "source": []
  },
  {
   "cell_type": "code",
   "execution_count": 59,
   "metadata": {},
   "outputs": [
    {
     "name": "stdout",
     "output_type": "stream",
     "text": [
      "[59.07936, 57.5464738727, 56.830527664176415, 56.48403188818471, 56.31352548456047, 56.22894252554225, 56.18681676580647, 56.16579508880537, 56.15529452282407, 56.15004680445006, 56.14742358597882, 56.14611213686746, 56.14545645233595, 56.14512862007549, 56.14496470644685, 56.14488275025737, 56.14484177232018, 56.14482128338813, 56.14481103893189, 56.14480591670849]\n"
     ]
    }
   ],
   "source": [
    "import numpy as np\n",
    "from matplotlib import pyplot\n",
    "from matplotlib.colors import ColorConverter as cc\n",
    "import math\n",
    "dt = 2\n",
    "my_time = np.zeros(20)\n",
    "for k in range(20):\n",
    "    my_time[k] = 2**(-k+1)\n",
    "    \n",
    "Temp = []\n",
    "#my_color = ['red', 'blue', 'green', 'black']\n",
    "for j in range(20):\n",
    "    nsteps = int(tmax/dt)\n",
    "    \n",
    "    my_new_time = np.linspace(0,nsteps-1,10)\n",
    "    my_temp = np.zeros(nsteps)\n",
    "    T = T0;\n",
    "    #exact = np.zeros(nsteps)\n",
    "    #diff_error = np.zeros(nsteps)\n",
    "    for i in range(nsteps):\n",
    "        T = euler(T, -r*(T-Ts), my_time[j])\n",
    "        my_temp[i] = T\n",
    "    #exact[i] = 83 + math.exp(-r*my_new_time[i])*(-73)\n",
    "    #diff_error[i] = (my_temp[i]-exact[i])\n",
    "    Temp.append(my_temp[-1])\n",
    "    dt = dt/2\n",
    "print(Temp)\n",
    "    \n",
    "  \n",
    "\n",
    "\n",
    "\n",
    "\n",
    "    #pyplot.legend()\n",
    "    \n",
    "\n",
    "\n",
    "    \n",
    "    \n",
    "\n",
    "\n",
    "    "
   ]
  },
  {
   "cell_type": "code",
   "execution_count": 51,
   "metadata": {},
   "outputs": [],
   "source": []
  },
  {
   "cell_type": "code",
   "execution_count": 63,
   "metadata": {},
   "outputs": [
    {
     "data": {
      "text/plain": [
       "Text(0, 0.5, 'temperature')"
      ]
     },
     "execution_count": 63,
     "metadata": {},
     "output_type": "execute_result"
    },
    {
     "data": {
      "image/png": "[encoded data removed]",
      "text/plain": [
       "<Figure size 432x288 with 1 Axes>"
      ]
     },
     "metadata": {
      "needs_background": "light"
     },
     "output_type": "display_data"
    }
   ],
   "source": [
    "\n",
    "\n",
    "pyplot.plot(my_time, Temp, '-o')\n",
    "pyplot.xlabel('time')\n",
    "pyplot.ylabel('temperature')\n",
    "    #pyplot.legend()\n",
    "    \n",
    "\n",
    "\n"
   ]
  },
  {
   "cell_type": "code",
   "execution_count": 71,
   "metadata": {},
   "outputs": [],
   "source": [
    "def real_T(t):\n",
    "    T0 = 10\n",
    "    Ts = 83\n",
    "    r=0.1\n",
    "    T_real = (T0 - Ts + Ts*np.exp( r*t ) ) * np.exp(-r*t)\n",
    "    return T_real"
   ]
  },
  {
   "cell_type": "code",
   "execution_count": 77,
   "metadata": {},
   "outputs": [
    {
     "name": "stdout",
     "output_type": "stream",
     "text": [
      "[10.00001392 10.00002785 10.00004177 ... 56.14479055 56.14479567\n",
      " 56.14480079]\n"
     ]
    }
   ],
   "source": [
    "nsteps = int(tmax/dt)\n",
    "t = np.linspace(dt,tmax,nsteps) # Array of time values\n",
    "num_temp = np.zeros(nsteps)   \n",
    "T = T0\n",
    "exact_temp = real_T(t) # Exact temp values\n",
    "\n",
    "\n",
    "for i in range(nsteps):\n",
    "    T = euler(T, -r*(T-Ts), dt)\n",
    "    num_temp[i] = T\n",
    "print(exact_temp)\n",
    "error = num_temp - exact_temp"
   ]
  },
  {
   "cell_type": "code",
   "execution_count": 79,
   "metadata": {},
   "outputs": [
    {
     "data": {
      "text/plain": [
       "Text(0, 0.5, 'Temp Error (K)')"
      ]
     },
     "execution_count": 79,
     "metadata": {},
     "output_type": "execute_result"
    },
    {
     "data": {
      "image/png": "[encoded data removed]",
      "text/plain": [
       "<Figure size 432x288 with 1 Axes>"
      ]
     },
     "metadata": {
      "needs_background": "light"
     },
     "output_type": "display_data"
    }
   ],
   "source": [
    "pyplot.plot(t,error,'-b')\n",
    "pyplot.title(\"Error Plot\")\n",
    "pyplot.xlabel(\"t (s)\")\n",
    "pyplot.ylabel(\"Temp Error (K)\")"
   ]
  },
  {
   "cell_type": "code",
   "execution_count": null,
   "metadata": {},
   "outputs": [],
   "source": []
  },
  {
   "cell_type": "code",
   "execution_count": null,
   "metadata": {},
   "outputs": [],
   "source": [
    "\n"
   ]
  },
  {
   "cell_type": "code",
   "execution_count": 155,
   "metadata": {},
   "outputs": [],
   "source": [
    "\n",
    "        "
   ]
  },
  {
   "cell_type": "code",
   "execution_count": null,
   "metadata": {},
   "outputs": [],
   "source": []
  },
  {
   "cell_type": "code",
   "execution_count": 170,
   "metadata": {},
   "outputs": [],
   "source": [
    "list1\n"
   ]
  },
  {
   "cell_type": "code",
   "execution_count": null,
   "metadata": {},
   "outputs": [],
   "source": []
  }
 ],
 "metadata": {
  "kernelspec": {
   "display_name": "Python 3",
   "language": "python",
   "name": "python3"
  },
  "language_info": {
   "codemirror_mode": {
    "name": "ipython",
    "version": 3
   },
   "file_extension": ".py",
   "mimetype": "text/x-python",
   "name": "python",
   "nbconvert_exporter": "python",
   "pygments_lexer": "ipython3",
   "version": "3.8.3"
  }
 },
 "nbformat": 4,
 "nbformat_minor": 4
}
