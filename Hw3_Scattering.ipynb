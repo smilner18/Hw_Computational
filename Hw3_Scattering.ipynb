{
 "cells": [
  {
   "cell_type": "code",
   "execution_count": 8,
   "metadata": {},
   "outputs": [],
   "source": [
    "class particle2(object):\n",
    "    \n",
    "    def __init__(self, mass=1., x=0., y=0., vx=0., vy=0.):\n",
    "        self.mass = mass\n",
    "        self.x = x\n",
    "        self.y = y\n",
    "        self.vx = vx\n",
    "        self.vy = vy\n",
    "       \n",
    "    def euler(self, fx, fy, dt):\n",
    "        self.vx = self.vx + fx/self.mass*dt\n",
    "        self.vy = self.vy + fy/self.mass*dt\n",
    "        self.x = self.x + self.vx*dt\n",
    "        self.y = self.y + self.vy*dt\n",
    "        "
   ]
  },
  {
   "cell_type": "code",
   "execution_count": 95,
   "metadata": {},
   "outputs": [
    {
     "name": "stdout",
     "output_type": "stream",
     "text": [
      "6.283185307179586\n",
      "6.101810435830258\n",
      "0.0\n",
      "6.283183274001248\n",
      "-2.2828305560369545e-11\n",
      "6.283185202209288\n",
      "-7.507873027825907e-13\n",
      "6.283185290037224\n",
      "-1.0057904460707665e-13\n",
      "6.2831853025924085\n",
      "-2.4073874057227317e-14\n",
      "6.283185305556586\n",
      "-7.92935029405011e-15\n",
      "6.2831853064916565\n",
      "-3.1976176722144435e-15\n",
      "6.283185306848594\n",
      "-1.4830667200328127e-15\n",
      "6.283185307004652\n",
      "-7.620824069714327e-16\n",
      "6.283185307080176\n",
      "-4.235084898855234e-16\n",
      "6.283185307119739\n",
      "-2.5036446053256515e-16\n",
      "6.283185307141874\n",
      "-1.5560246826714512e-16\n"
     ]
    },
    {
     "data": {
      "image/png": "[encoded data removed]",
      "text/plain": [
       "<Figure size 432x288 with 1 Axes>"
      ]
     },
     "metadata": {
      "needs_background": "light"
     },
     "output_type": "display_data"
    }
   ],
   "source": [
    "%matplotlib inline\n",
    "import numpy as np\n",
    "from matplotlib import pyplot\n",
    "from matplotlib.colors import ColorConverter as cc\n",
    "import math\n",
    "\n",
    "GM = 4*math.pi**2\n",
    "r = 1                 # radius of the orbit\n",
    "v0 = math.sqrt(GM/r)    # This is the condition for circular orbits \n",
    "print(v0)\n",
    "theta1 = np.zeros(13)\n",
    "for j in range(1,13):\n",
    "\n",
    "    V0 = 1\n",
    "    a = 1\n",
    "\n",
    "    x0 = r                  # initial position\n",
    "    y0 = (j-1)/24          # we asume we start from the x axis\n",
    "    v0x = v0                # and the initial velocity\n",
    "    v0y = 0.               # is perpendicular to the vector position. \n",
    "\n",
    "    dt = 0.001                # time step\n",
    "    tmax = 4.\n",
    "    nsteps = int(tmax/dt)\n",
    "\n",
    "    x = np.zeros(nsteps)\n",
    "    y = np.zeros(nsteps)\n",
    "    vx = np.zeros(nsteps) \n",
    "    vy = np.zeros(nsteps)\n",
    "    energy = np.zeros(nsteps)\n",
    "    \n",
    "\n",
    "    x[0] = x0\n",
    "    y[0] = y0\n",
    "    vx[0] = v0x\n",
    "    vy[0] = v0y\n",
    "    energy[0] = 0.5*(v0y**2+v0x**2) - 4*V0*((a/r)**12-(a/r)**6)\n",
    " \n",
    "\n",
    "    p = particle2(1., x0, y0, v0x, v0y)\n",
    "\n",
    "    for i in range(0,nsteps):\n",
    "        r = math.sqrt(p.x*p.x+p.y*p.y)\n",
    "        r3 = r * r * r\n",
    "        fx = -4*V0*(-12*(a/r)**11+6*(a/r)**5)*p.x/r\n",
    "        fy = -4*V0*(-12*(a/r)**11+6*(a/r)**5)*p.y/r\n",
    "        p.euler(fx, fy, dt)\n",
    "\n",
    "        x[i] = p.x\n",
    "        y[i] = p.y\n",
    "        vx[i] = p.vx\n",
    "        vy[i] = p.vy\n",
    "        energy[i] = 0.5*(p.vx**2+p.vy**2) - 4*V0*((a/r)**12-(a/r)**6)\n",
    "        \n",
    "    t = np.linspace(0.,tmax,nsteps)    \n",
    "    b = np.linspace(0,0.5,13)\n",
    "    print(vx[2999])\n",
    "    #print(vy[2999])\n",
    "    theta1[j] = math.atan(vy[39]/vx[39])\n",
    "    print(theta1[j])\n",
    "    #\n",
    "pyplot.plot(b, theta1, color='green', ls='-', lw=3)\n",
    "\n",
    "pyplot.xlabel('b')\n",
    "pyplot.ylabel('theta');"
   ]
  },
  {
   "cell_type": "code",
   "execution_count": null,
   "metadata": {},
   "outputs": [],
   "source": []
  }
 ],
 "metadata": {
  "kernelspec": {
   "display_name": "Python 3",
   "language": "python",
   "name": "python3"
  },
  "language_info": {
   "codemirror_mode": {
    "name": "ipython",
    "version": 3
   },
   "file_extension": ".py",
   "mimetype": "text/x-python",
   "name": "python",
   "nbconvert_exporter": "python",
   "pygments_lexer": "ipython3",
   "version": "3.8.3"
  }
 },
 "nbformat": 4,
 "nbformat_minor": 4
}
